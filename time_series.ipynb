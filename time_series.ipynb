{
 "cells": [
  {
   "cell_type": "code",
   "execution_count": 16,
   "metadata": {},
   "outputs": [],
   "source": [
    "import pandas as pd\n",
    "import matplotlib.pyplot as plt\n",
    "import seaborn as sns\n",
    "%matplotlib inline\n",
    "import os\n",
    "# to make plots match dark theme in jupyter lab\n",
    "plt.style.use('dark_background')"
   ]
  },
  {
   "cell_type": "code",
   "execution_count": 2,
   "metadata": {},
   "outputs": [],
   "source": [
    "df1 = pd.read_csv('data/Metro_Zhvi_SingleFamilyResidence.csv')"
   ]
  },
  {
   "cell_type": "code",
   "execution_count": 3,
   "metadata": {},
   "outputs": [
    {
     "data": {
      "text/html": [
       "<div>\n",
       "<style scoped>\n",
       "    .dataframe tbody tr th:only-of-type {\n",
       "        vertical-align: middle;\n",
       "    }\n",
       "\n",
       "    .dataframe tbody tr th {\n",
       "        vertical-align: top;\n",
       "    }\n",
       "\n",
       "    .dataframe thead th {\n",
       "        text-align: right;\n",
       "    }\n",
       "</style>\n",
       "<table border=\"1\" class=\"dataframe\">\n",
       "  <thead>\n",
       "    <tr style=\"text-align: right;\">\n",
       "      <th></th>\n",
       "      <th>RegionID</th>\n",
       "      <th>RegionName</th>\n",
       "      <th>SizeRank</th>\n",
       "      <th>1996-04</th>\n",
       "      <th>1996-05</th>\n",
       "      <th>1996-06</th>\n",
       "      <th>1996-07</th>\n",
       "      <th>1996-08</th>\n",
       "      <th>1996-09</th>\n",
       "      <th>1996-10</th>\n",
       "      <th>...</th>\n",
       "      <th>2019-05</th>\n",
       "      <th>2019-06</th>\n",
       "      <th>2019-07</th>\n",
       "      <th>2019-08</th>\n",
       "      <th>2019-09</th>\n",
       "      <th>2019-10</th>\n",
       "      <th>2019-11</th>\n",
       "      <th>2019-12</th>\n",
       "      <th>2020-01</th>\n",
       "      <th>2020-02</th>\n",
       "    </tr>\n",
       "  </thead>\n",
       "  <tbody>\n",
       "    <tr>\n",
       "      <th>0</th>\n",
       "      <td>102001</td>\n",
       "      <td>United States</td>\n",
       "      <td>0</td>\n",
       "      <td>106409.0</td>\n",
       "      <td>106560.0</td>\n",
       "      <td>106737.0</td>\n",
       "      <td>106910.0</td>\n",
       "      <td>107128.0</td>\n",
       "      <td>107351.0</td>\n",
       "      <td>107614.0</td>\n",
       "      <td>...</td>\n",
       "      <td>238053</td>\n",
       "      <td>238779</td>\n",
       "      <td>239549</td>\n",
       "      <td>240338</td>\n",
       "      <td>241143</td>\n",
       "      <td>241961</td>\n",
       "      <td>242760</td>\n",
       "      <td>243578</td>\n",
       "      <td>244440</td>\n",
       "      <td>245386</td>\n",
       "    </tr>\n",
       "    <tr>\n",
       "      <th>1</th>\n",
       "      <td>394913</td>\n",
       "      <td>New York, NY</td>\n",
       "      <td>1</td>\n",
       "      <td>189376.0</td>\n",
       "      <td>189043.0</td>\n",
       "      <td>188739.0</td>\n",
       "      <td>188553.0</td>\n",
       "      <td>188461.0</td>\n",
       "      <td>188504.0</td>\n",
       "      <td>188629.0</td>\n",
       "      <td>...</td>\n",
       "      <td>475533</td>\n",
       "      <td>475912</td>\n",
       "      <td>476471</td>\n",
       "      <td>477020</td>\n",
       "      <td>477381</td>\n",
       "      <td>477515</td>\n",
       "      <td>477746</td>\n",
       "      <td>478297</td>\n",
       "      <td>479081</td>\n",
       "      <td>479971</td>\n",
       "    </tr>\n",
       "    <tr>\n",
       "      <th>2</th>\n",
       "      <td>753899</td>\n",
       "      <td>Los Angeles-Long Beach-Anaheim, CA</td>\n",
       "      <td>2</td>\n",
       "      <td>192140.0</td>\n",
       "      <td>192143.0</td>\n",
       "      <td>192208.0</td>\n",
       "      <td>192359.0</td>\n",
       "      <td>192348.0</td>\n",
       "      <td>192275.0</td>\n",
       "      <td>192216.0</td>\n",
       "      <td>...</td>\n",
       "      <td>685436</td>\n",
       "      <td>686283</td>\n",
       "      <td>687894</td>\n",
       "      <td>690303</td>\n",
       "      <td>693953</td>\n",
       "      <td>697273</td>\n",
       "      <td>700235</td>\n",
       "      <td>704585</td>\n",
       "      <td>710138</td>\n",
       "      <td>718974</td>\n",
       "    </tr>\n",
       "    <tr>\n",
       "      <th>3</th>\n",
       "      <td>394463</td>\n",
       "      <td>Chicago, IL</td>\n",
       "      <td>3</td>\n",
       "      <td>162321.0</td>\n",
       "      <td>161707.0</td>\n",
       "      <td>161373.0</td>\n",
       "      <td>160886.0</td>\n",
       "      <td>161449.0</td>\n",
       "      <td>162263.0</td>\n",
       "      <td>163930.0</td>\n",
       "      <td>...</td>\n",
       "      <td>243265</td>\n",
       "      <td>243491</td>\n",
       "      <td>243848</td>\n",
       "      <td>244063</td>\n",
       "      <td>244154</td>\n",
       "      <td>244153</td>\n",
       "      <td>244137</td>\n",
       "      <td>244226</td>\n",
       "      <td>244415</td>\n",
       "      <td>244624</td>\n",
       "    </tr>\n",
       "    <tr>\n",
       "      <th>4</th>\n",
       "      <td>394514</td>\n",
       "      <td>Dallas-Fort Worth, TX</td>\n",
       "      <td>4</td>\n",
       "      <td>113140.0</td>\n",
       "      <td>113481.0</td>\n",
       "      <td>113727.0</td>\n",
       "      <td>113913.0</td>\n",
       "      <td>114131.0</td>\n",
       "      <td>114357.0</td>\n",
       "      <td>114688.0</td>\n",
       "      <td>...</td>\n",
       "      <td>252542</td>\n",
       "      <td>253044</td>\n",
       "      <td>253660</td>\n",
       "      <td>254304</td>\n",
       "      <td>255076</td>\n",
       "      <td>255509</td>\n",
       "      <td>255856</td>\n",
       "      <td>255972</td>\n",
       "      <td>256267</td>\n",
       "      <td>256718</td>\n",
       "    </tr>\n",
       "  </tbody>\n",
       "</table>\n",
       "<p>5 rows × 290 columns</p>\n",
       "</div>"
      ],
      "text/plain": [
       "   RegionID                          RegionName  SizeRank   1996-04   1996-05  \\\n",
       "0    102001                       United States         0  106409.0  106560.0   \n",
       "1    394913                        New York, NY         1  189376.0  189043.0   \n",
       "2    753899  Los Angeles-Long Beach-Anaheim, CA         2  192140.0  192143.0   \n",
       "3    394463                         Chicago, IL         3  162321.0  161707.0   \n",
       "4    394514               Dallas-Fort Worth, TX         4  113140.0  113481.0   \n",
       "\n",
       "    1996-06   1996-07   1996-08   1996-09   1996-10  ...  2019-05  2019-06  \\\n",
       "0  106737.0  106910.0  107128.0  107351.0  107614.0  ...   238053   238779   \n",
       "1  188739.0  188553.0  188461.0  188504.0  188629.0  ...   475533   475912   \n",
       "2  192208.0  192359.0  192348.0  192275.0  192216.0  ...   685436   686283   \n",
       "3  161373.0  160886.0  161449.0  162263.0  163930.0  ...   243265   243491   \n",
       "4  113727.0  113913.0  114131.0  114357.0  114688.0  ...   252542   253044   \n",
       "\n",
       "   2019-07  2019-08  2019-09  2019-10  2019-11  2019-12  2020-01  2020-02  \n",
       "0   239549   240338   241143   241961   242760   243578   244440   245386  \n",
       "1   476471   477020   477381   477515   477746   478297   479081   479971  \n",
       "2   687894   690303   693953   697273   700235   704585   710138   718974  \n",
       "3   243848   244063   244154   244153   244137   244226   244415   244624  \n",
       "4   253660   254304   255076   255509   255856   255972   256267   256718  \n",
       "\n",
       "[5 rows x 290 columns]"
      ]
     },
     "execution_count": 3,
     "metadata": {},
     "output_type": "execute_result"
    }
   ],
   "source": [
    "df1.head()"
   ]
  },
  {
   "cell_type": "code",
   "execution_count": 4,
   "metadata": {},
   "outputs": [
    {
     "data": {
      "text/plain": [
       "(914, 290)"
      ]
     },
     "execution_count": 4,
     "metadata": {},
     "output_type": "execute_result"
    }
   ],
   "source": [
    "df1.shape"
   ]
  },
  {
   "cell_type": "code",
   "execution_count": 5,
   "metadata": {},
   "outputs": [],
   "source": [
    "# Lets remove United States and focus on city and state\n",
    "state_df = df1.iloc[1:, :].copy()"
   ]
  },
  {
   "cell_type": "code",
   "execution_count": 6,
   "metadata": {},
   "outputs": [],
   "source": [
    "# Drop unneeded columns\n",
    "state_df.drop(['RegionID', 'SizeRank'], inplace=True, axis=1)"
   ]
  },
  {
   "cell_type": "code",
   "execution_count": 7,
   "metadata": {},
   "outputs": [],
   "source": [
    "# make YY-MM columns start on the first to make our lives easier\n",
    "state_df.rename(dict(zip(state_df.columns[1:], [f'{c}-01' for c in state_df.columns[1:]])), \n",
    "                inplace=True, axis='columns')"
   ]
  },
  {
   "cell_type": "code",
   "execution_count": 8,
   "metadata": {},
   "outputs": [],
   "source": [
    "# Split RegionName into city and state\n",
    "state_df['City'] =  [x.split(', ')[0] for x in state_df['RegionName']]\n",
    "state_df['State'] = [y.split(', ')[1] for y in state_df['RegionName']]\n",
    "state_df.drop(['RegionName'], inplace=True, axis=1)"
   ]
  },
  {
   "cell_type": "code",
   "execution_count": 9,
   "metadata": {},
   "outputs": [
    {
     "data": {
      "image/png": "[encoded data removed]",
      "text/plain": [
       "<Figure size 864x576 with 2 Axes>"
      ]
     },
     "metadata": {},
     "output_type": "display_data"
    }
   ],
   "source": [
    "# Lets see the null values\n",
    "plt.figure(figsize=(12, 8))\n",
    "sns.heatmap(state_df.isna());"
   ]
  },
  {
   "cell_type": "code",
   "execution_count": 10,
   "metadata": {},
   "outputs": [],
   "source": [
    "state_df.set_index('City', inplace=True)"
   ]
  },
  {
   "cell_type": "code",
   "execution_count": 11,
   "metadata": {},
   "outputs": [],
   "source": [
    "# Make time series by state code\n",
    "def state_df_maker(state_code):\n",
    "    if type(state_code) != str:\n",
    "        type(state_code) == str\n",
    "    state_data = state_df[state_df['State'] == state_code.upper()].copy()\n",
    "    state_data.reset_index(inplace=True)\n",
    "    state_data = state_data.transpose()\n",
    "    state_data.columns = state_data.iloc[0]\n",
    "    state_data.drop(state_data.index[0], inplace=True)\n",
    "    # convert to numeric, ignore the NaNs\n",
    "    state_data.apply(pd.to_numeric, errors='ignore')\n",
    "    state_data.index = pd.to_datetime(state_data.index, format=\"%Y-%m-%d\", errors='coerce')\n",
    "    # We dont need the state code\n",
    "    return state_data[:-1]"
   ]
  },
  {
   "cell_type": "code",
   "execution_count": 12,
   "metadata": {},
   "outputs": [],
   "source": [
    "ohio_df = state_df_maker('OH')"
   ]
  },
  {
   "cell_type": "code",
   "execution_count": 13,
   "metadata": {},
   "outputs": [
    {
     "data": {
      "image/png": "[encoded data removed]",
      "text/plain": [
       "<Figure size 864x576 with 1 Axes>"
      ]
     },
     "metadata": {},
     "output_type": "display_data"
    }
   ],
   "source": [
    "plt.figure(figsize=(12, 8))\n",
    "ohio_df['Dayton'].plot();"
   ]
  },
  {
   "cell_type": "markdown",
   "metadata": {},
   "source": [
    "\"\"\"\n",
    "What things could effect the housing market\n",
    "Dates range from 04/96 - 02/20\n",
    "\"\"\""
   ]
  },
  {
   "cell_type": "markdown",
   "metadata": {},
   "source": [
    "# Sources to get data \n",
    "### Idea for corona virus - deaths from virus vs economy\n",
    "* https://www.economicshelp.org/blog/377/housing/factors-that-affect-the-housing-market/ \n",
    "* https://fred.stlouisfed.org/ \n",
    "    * CPIAUCSL.csv - https://fred.stlouisfed.org/series/CPIAUCSL\n",
    "    * A191RL1Q225SBEA.csv - https://fred.stlouisfed.org/series/A191RL1Q225SBEA\n",
    "    * UNRATE.csv - https://fred.stlouisfed.org/series/UNRATE\n",
    "    * INDPRO.csv - https://fred.stlouisfed.org/series/INDPRO\n",
    "    * FEDFUNDS.csv - https://fred.stlouisfed.org/series/FEDFUNDS\n",
    "* ^DJI.csv - https://finance.yahoo.com/quote/%5EDJI/historyperiod1=828316800&period2=1580515200&interval=1mo&filter=history&frequency=1mo\n",
    "* ^GSPC.csv - https://finance.yahoo.com/quote/%5EGSPC/historyperiod1=828316800&period2=1580515200&interval=1mo&filter=history&frequency=1mo"
   ]
  },
  {
   "cell_type": "code",
   "execution_count": 20,
   "metadata": {},
   "outputs": [
    {
     "name": "stdout",
     "output_type": "stream",
     "text": [
      "A191RL1Q225SBEA.csv\n",
      "CPIAUCSL.csv\n",
      "FEDFUNDS.csv\n",
      "INDPRO.csv\n",
      "Metro_Zhvi_SingleFamilyResidence.csv\n",
      "State_Zhvi_SingleFamilyResidence.csv\n",
      "UNRATE.csv\n",
      "^DJI.csv\n",
      "^GSPC.csv\n"
     ]
    }
   ],
   "source": [
    "for file in os.listdir('data'):\n",
    "    if file.endswith('.csv'):\n",
    "        print(file)"
   ]
  },
  {
   "cell_type": "code",
   "execution_count": null,
   "metadata": {},
   "outputs": [],
   "source": []
  }
 ],
 "metadata": {
  "kernelspec": {
   "display_name": "Python 3",
   "language": "python",
   "name": "python3"
  },
  "language_info": {
   "codemirror_mode": {
    "name": "ipython",
    "version": 3
   },
   "file_extension": ".py",
   "mimetype": "text/x-python",
   "name": "python",
   "nbconvert_exporter": "python",
   "pygments_lexer": "ipython3",
   "version": "3.7.6"
  }
 },
 "nbformat": 4,
 "nbformat_minor": 4
}
